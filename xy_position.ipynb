{
 "cells": [
  {
   "cell_type": "code",
   "execution_count": 16,
   "id": "7bab76f3-6ed9-4624-89d9-29317be2c80c",
   "metadata": {},
   "outputs": [],
   "source": [
    "import numpy as np\n",
    "from itertools import cycle"
   ]
  },
  {
   "cell_type": "code",
   "execution_count": null,
   "id": "3458e053-dd73-4b11-8413-174483834462",
   "metadata": {},
   "outputs": [],
   "source": []
  },
  {
   "cell_type": "code",
   "execution_count": 30,
   "id": "a0f2f966-9a58-46e4-aa92-9f962dc2ce95",
   "metadata": {},
   "outputs": [],
   "source": [
    "def init_cycle(total, is_reverse, curr):\n",
    "    '''\n",
    "        [0,1,2,3,4,5(total-)]\n",
    "        total: 6\n",
    "        is_reverse: 0:increase, 1:decrease\n",
    "    '''\n",
    "    vx = list(range(total))\n",
    "    vx = vx + list(reversed(vx))\n",
    "    if is_reverse == 0:\n",
    "        rv = np.roll(vx, -curr - 1)\n",
    "    else:\n",
    "        rv = np.roll(vx, curr)\n",
    "    return cycle(rv)"
   ]
  },
  {
   "cell_type": "markdown",
   "id": "e701268b-d944-49fd-92ea-35c01c55e146",
   "metadata": {},
   "source": [
    "### 현재 x,y좌표로 부터 max 만큼의 좌표를 출력"
   ]
  },
  {
   "cell_type": "code",
   "execution_count": 31,
   "id": "a2a5fffc-f6b8-4911-a16e-34d339745c9e",
   "metadata": {},
   "outputs": [
    {
     "name": "stdout",
     "output_type": "stream",
     "text": [
      " N, X,  Y\n",
      " 1:10,  6\n",
      "\u001b[41m 2:10,  5 cnt=1\u001b[0m\n",
      " 3: 9,  5\n",
      " 4: 8,  5\n",
      " 5: 7,  5\n",
      " 6: 6,  5\n",
      " 7: 5,  5\n",
      " 8: 4,  5\n",
      " 9: 3,  5\n",
      "10: 2,  5\n",
      "11: 1,  5\n",
      "12: 0,  5\n",
      "\u001b[41m13: 0,  4 cnt=2\u001b[0m\n",
      "14: 1,  4\n",
      "15: 2,  4\n",
      "16: 3,  4\n",
      "17: 4,  4\n",
      "18: 5,  4\n",
      "19: 6,  4\n",
      "20: 7,  4\n",
      "21: 8,  4\n",
      "22: 9,  4\n",
      "23:10,  4\n",
      "\u001b[41m24:10,  3 cnt=3\u001b[0m\n",
      "25: 9,  3\n",
      "26: 8,  3\n",
      "27: 7,  3\n",
      "28: 6,  3\n",
      "29: 5,  3\n",
      "30: 4,  3\n",
      "31: 3,  3\n",
      "32: 2,  3\n",
      "33: 1,  3\n",
      "34: 0,  3\n",
      "\u001b[41m35: 0,  2 cnt=4\u001b[0m\n",
      "36: 1,  2\n",
      "37: 2,  2\n",
      "38: 3,  2\n",
      "39: 4,  2\n",
      "40: 5,  2\n",
      "41: 6,  2\n",
      "42: 7,  2\n",
      "43: 8,  2\n",
      "44: 9,  2\n",
      "45:10,  2\n",
      "\u001b[41m46:10,  1 cnt=5\u001b[0m\n",
      "47: 9,  1\n",
      "48: 8,  1\n",
      "49: 7,  1\n",
      "50: 6,  1\n",
      "51: 5,  1\n",
      "52: 4,  1\n",
      "53: 3,  1\n",
      "54: 2,  1\n",
      "55: 1,  1\n",
      "56: 0,  1\n",
      "\u001b[41m57: 0,  0 cnt=6\u001b[0m\n",
      "58: 1,  0\n",
      "59: 2,  0\n",
      "60: 3,  0\n",
      "61: 4,  0\n",
      "62: 5,  0\n",
      "63: 6,  0\n"
     ]
    },
    {
     "data": {
      "text/plain": [
       "6"
      ]
     },
     "execution_count": 31,
     "metadata": {},
     "output_type": "execute_result"
    }
   ],
   "source": [
    "import numpy as np\n",
    "def print_next(pos, row=11, col=11, len_p=63):\n",
    "    '''\n",
    "        pos = (isrx, px, isry, py)\n",
    "        isrx: 0: x값은 증가하고 있다. 1: x값은 감소하고 있다.\n",
    "        px: x 좌표\n",
    "        isry: 0: y값은 증가하고 있다. 1: y값은 감소하고 있다.\n",
    "        py: y 좌표\n",
    "    '''\n",
    "    isrx, px, isry, py = pos\n",
    "    cx = init_cycle(row, isrx, px)\n",
    "    cy = init_cycle(col, isry, py)\n",
    "    flip_cnt = 0\n",
    "    prex = None\n",
    "    print(f' N, X,  Y')\n",
    "    for i in range(len_p):\n",
    "        if prex == px:\n",
    "            print('\\33[41m' + f'{i+1:2d}:{px:2d}, {py:2d} cnt={flip_cnt}' + '\\x1b[0m', )\n",
    "        else:\n",
    "            print(f'{i+1:2d}:{px:2d}, {py:2d}')        \n",
    "        prex = px\n",
    "        px = next(cx)\n",
    "        if prex == px:\n",
    "            flip_cnt += 1\n",
    "            py = next(cy)\n",
    "    if px == 0:  # Last one\n",
    "        print('\\33[41m' + f'           cnt={flip_cnt}' + '\\x1b[0m', )\n",
    "    return flip_cnt\n",
    "print_next((0, 10, 1, 6), 11, 11, 63)"
   ]
  },
  {
   "cell_type": "markdown",
   "id": "1619de59-dc43-4f6f-8e63-729943010a02",
   "metadata": {},
   "source": [
    "### (x,y) 갯수가 len_p 개 이고 처음 x의 값이 start일때 y좌표가 몇 번 변하는지 ?\n",
    "처음 x의 값에 따라서 flip개 또는 flip+1개가 된다"
   ]
  },
  {
   "cell_type": "code",
   "execution_count": 32,
   "id": "f72323de-6b4f-4bae-af35-fb59b838a205",
   "metadata": {},
   "outputs": [],
   "source": [
    "import numpy as np\n",
    "from itertools import cycle\n",
    "\n",
    "def flip_count_brute_force(reverse, start, max_x, len_p, prt=False):\n",
    "    '''\n",
    "       연산 시간이 오래 걸리는 방법\n",
    "    '''\n",
    "    cx = init_cycle(max_x, reverse, start)\n",
    "    flip_cnt = 0\n",
    "    prex = None\n",
    "    px = start\n",
    "    for i in range(len_p):\n",
    "        if prt:\n",
    "            print(f'{i+1}:{px}')\n",
    "        prex = px\n",
    "        px = next(cx)\n",
    "        if prex == px:\n",
    "            flip_cnt += 1\n",
    "    return flip_cnt\n",
    "\n",
    "def flip_count(reverse, start, max_x, len_p):\n",
    "    flip = int(len_p / max_x)            \n",
    "    thres = max_x - (len_p % max_x)    \n",
    "    if reverse == 0:            \n",
    "        if start < thres:\n",
    "            cnt = flip\n",
    "        else:\n",
    "            cnt = flip + 1\n",
    "    else:\n",
    "        if max_x - start - 1 < thres: \n",
    "            cnt = flip\n",
    "        else:\n",
    "            cnt = flip + 1\n",
    "    return cnt"
   ]
  },
  {
   "cell_type": "markdown",
   "id": "b846f3aa-0d18-4230-91d4-8d67ad4b16b1",
   "metadata": {},
   "source": [
    "### flip_count TEST"
   ]
  },
  {
   "cell_type": "code",
   "execution_count": 33,
   "id": "730fc966-4cd1-4904-95ac-2f3a50a22f8a",
   "metadata": {},
   "outputs": [
    {
     "name": "stdout",
     "output_type": "stream",
     "text": [
      "reverse=0, start=  0, 실제변하는 횟수=5, 예상값=5\n",
      "reverse=0, start=  1, 실제변하는 횟수=5, 예상값=5\n",
      "reverse=0, start=  2, 실제변하는 횟수=5, 예상값=5\n",
      "reverse=0, start=  3, 실제변하는 횟수=6, 예상값=6\n",
      "reverse=0, start=  4, 실제변하는 횟수=6, 예상값=6\n",
      "reverse=0, start=  5, 실제변하는 횟수=6, 예상값=6\n",
      "reverse=0, start=  6, 실제변하는 횟수=6, 예상값=6\n",
      "reverse=0, start=  7, 실제변하는 횟수=6, 예상값=6\n",
      "reverse=0, start=  8, 실제변하는 횟수=6, 예상값=6\n",
      "reverse=0, start=  9, 실제변하는 횟수=6, 예상값=6\n",
      "reverse=0, start= 10, 실제변하는 횟수=6, 예상값=6\n",
      "reverse=1, start=  0, 실제변하는 횟수=6, 예상값=6\n",
      "reverse=1, start=  1, 실제변하는 횟수=6, 예상값=6\n",
      "reverse=1, start=  2, 실제변하는 횟수=6, 예상값=6\n",
      "reverse=1, start=  3, 실제변하는 횟수=6, 예상값=6\n",
      "reverse=1, start=  4, 실제변하는 횟수=6, 예상값=6\n",
      "reverse=1, start=  5, 실제변하는 횟수=6, 예상값=6\n",
      "reverse=1, start=  6, 실제변하는 횟수=6, 예상값=6\n",
      "reverse=1, start=  7, 실제변하는 횟수=6, 예상값=6\n",
      "reverse=1, start=  8, 실제변하는 횟수=5, 예상값=5\n",
      "reverse=1, start=  9, 실제변하는 횟수=5, 예상값=5\n",
      "reverse=1, start= 10, 실제변하는 횟수=5, 예상값=5\n"
     ]
    }
   ],
   "source": [
    "max_x = 11\n",
    "len_p = 63\n",
    "for reverse in [0, 1]:\n",
    "    for start in range(max_x):\n",
    "        #cnt_bf = flip_count_brute_force_org(reverse, start, max_x, len_p)\n",
    "        cnt_bf = flip_count_brute_force(reverse, start, max_x, len_p)\n",
    "        cnt = flip_count(reverse, start, max_x, len_p)\n",
    "        if cnt_bf == cnt:\n",
    "            #pass\n",
    "            print(f'reverse={reverse}, start={start:3d}, 실제변하는 횟수={cnt_bf}, 예상값={cnt}')\n",
    "        else:\n",
    "            # 에러 있으면 빨간색으로\n",
    "            print(pre+f'reverse={reverse}, start={start:3d}, 실제변하는 횟수={cnt_bf}, 예상값={cnt}'+end)\n",
    "        #print('*****************************')"
   ]
  },
  {
   "cell_type": "code",
   "execution_count": 34,
   "id": "2d20f772-9357-43e8-8947-f81a0d8966c2",
   "metadata": {},
   "outputs": [
    {
     "data": {
      "text/plain": [
       "204"
      ]
     },
     "execution_count": 34,
     "metadata": {},
     "output_type": "execute_result"
    }
   ],
   "source": [
    "flip_count_brute_force(0, 1, 200000, 40960000)"
   ]
  },
  {
   "cell_type": "code",
   "execution_count": 35,
   "id": "0f613848-5e56-4221-b956-bc4bee81ca0b",
   "metadata": {},
   "outputs": [
    {
     "data": {
      "text/plain": [
       "204"
      ]
     },
     "execution_count": 35,
     "metadata": {},
     "output_type": "execute_result"
    }
   ],
   "source": [
    "flip_count(0, 1, 200000, 40960000)"
   ]
  },
  {
   "cell_type": "markdown",
   "id": "4b2a9f17-873f-4117-b677-06788c0bb56a",
   "metadata": {},
   "source": [
    "### 현재 x(y) 좌표로부터 offset 만큼 떨어진 곳의 예상되는 좌표는?"
   ]
  },
  {
   "cell_type": "code",
   "execution_count": 36,
   "id": "127beaec-c869-47ac-8cb7-3ec7d535e148",
   "metadata": {},
   "outputs": [],
   "source": [
    "def guess_pos(offset, idxmax, is_reverse, curr):\n",
    "    '''\n",
    "        data: [0,1,2,...200,201,201,200,...1,0,0,1......]\n",
    "        is_reverse: [0,0,0...1,1,0,0,...1,1,0,0...]\n",
    "        idx : [0(curr),1,2,3........]\n",
    "        offset: [1,2,3,4], next index\n",
    "        idxmax: Max index = 201\n",
    "        is_reverse: Is current index reversing sequence?\n",
    "        curr: current index\n",
    "        return next position\n",
    "        self.guess_pos(63, 201, 1, 0)\n",
    "    '''\n",
    "    if is_reverse == 0:\n",
    "        ex_is_reverse = int((offset + curr) / idxmax)  % 2\n",
    "        if ex_is_reverse == 0:\n",
    "            ex_num = (curr + offset) % idxmax\n",
    "        else:\n",
    "            ex_num = idxmax - 1 - ((curr + offset) % idxmax)\n",
    "    else:\n",
    "        ex_is_reverse = ((int((idxmax - 1 - curr + offset) / idxmax)  % 2) + 1 ) %2\n",
    "        if ex_is_reverse == 0:\n",
    "            ex_num = (idxmax - 1 - curr + offset) % idxmax \n",
    "        else:\n",
    "            ex_num = (curr - offset) % idxmax\n",
    "    #print(f'curr=({is_reverse}, {curr}), expect=({ex_is_reverse}, {ex_num})')\n",
    "    return ex_is_reverse, ex_num        \n"
   ]
  },
  {
   "cell_type": "markdown",
   "id": "20424cfd-e008-4784-8e7a-6e71544a2493",
   "metadata": {},
   "source": [
    "### 현재 x,y좌표로 부터 offset 만큼 떨어진 곳의 x,y좌표는?"
   ]
  },
  {
   "cell_type": "code",
   "execution_count": 37,
   "id": "16b961d6-a5dd-465f-92ba-0a416ce1ff47",
   "metadata": {},
   "outputs": [],
   "source": [
    "def guess_pos_xy(pos, offset=63, row=11, col=11):\n",
    "    '''\n",
    "        pos = (isrx, px, isry, py)\n",
    "        isrx: 0: x값은 증가하고 있다. 1: x값은 감소하고 있다.\n",
    "        px: x 좌표\n",
    "        isry: 0: y값은 증가하고 있다. 1: y값은 감소하고 있다.\n",
    "        py: y 좌표\n",
    "    '''\n",
    "    isrx, px, isry, py = pos\n",
    "    is_rev_x, pos_x = guess_pos(offset, row, isrx, px)\n",
    "\n",
    "    y_flip = int(offset / row)  # pos_y change count\n",
    "    y_thres = row - (offset % row)  # pos_y change count + 1 if >= thres\n",
    "    \n",
    "    # guess offset_y\n",
    "    offset_y = flip_count(isrx, px, row, offset)\n",
    "    \n",
    "    is_rev_y, pos_y = guess_pos(offset_y, col, isry, py)\n",
    "    print(f'({is_rev_x, pos_x, is_rev_y, pos_y})')"
   ]
  },
  {
   "cell_type": "code",
   "execution_count": 41,
   "id": "500511f5-885c-4543-8a04-0aff93acbb71",
   "metadata": {},
   "outputs": [
    {
     "name": "stdout",
     "output_type": "stream",
     "text": [
      "((1, 10, 0, 5))\n"
     ]
    }
   ],
   "source": [
    "guess_pos_xy((1,7,1,0), 63, 11, 11)"
   ]
  },
  {
   "cell_type": "code",
   "execution_count": null,
   "id": "b59ae609-b7c2-426e-8a6e-fd4b4bf898d1",
   "metadata": {},
   "outputs": [],
   "source": []
  }
 ],
 "metadata": {
  "kernelspec": {
   "display_name": "Python 3 (ipykernel)",
   "language": "python",
   "name": "python3"
  },
  "language_info": {
   "codemirror_mode": {
    "name": "ipython",
    "version": 3
   },
   "file_extension": ".py",
   "mimetype": "text/x-python",
   "name": "python",
   "nbconvert_exporter": "python",
   "pygments_lexer": "ipython3",
   "version": "3.9.12"
  }
 },
 "nbformat": 4,
 "nbformat_minor": 5
}
